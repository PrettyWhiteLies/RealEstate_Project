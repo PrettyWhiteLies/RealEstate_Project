{
 "cells": [
  {
   "cell_type": "markdown",
   "metadata": {},
   "source": [
    "# Feature Prediction"
   ]
  },
  {
   "cell_type": "markdown",
   "metadata": {},
   "source": [
    "Using the population (2016-2021), income (2016-2019), and crime rate (2016-2023) to predict \n",
    "future values, where population and income need to predict 2023-2026, and crime rate is 2024-2026.\n",
    "\n",
    "1. Read the training data we have prepared before.\n",
    "2. Use Linear Regression and assume their linearity. \n",
    "3. Perform hyperparameter tuning by using Grid Search.\n",
    "4. Save the predicted value as test data"
   ]
  },
  {
   "cell_type": "code",
   "execution_count": 5,
   "metadata": {},
   "outputs": [],
   "source": [
    "import pandas as pd\n",
    "import geopandas as gpd\n",
    "from sklearn.linear_model import LinearRegression\n",
    "from sklearn.model_selection import GridSearchCV\n",
    "import pmdarima as pm\n",
    "import os"
   ]
  },
  {
   "cell_type": "code",
   "execution_count": 6,
   "metadata": {},
   "outputs": [],
   "source": [
    "def predict_future(data_directory, future_years, sa2_to_predict, feature, file_name):\n",
    "\n",
    "    \"\"\"\n",
    "    Predict future income or another specified feature for specific regions (SA2 codes) over a range of future years.\n",
    "\n",
    "    Parameters:\n",
    "    - data_directory: The directory where historical data files are located.\n",
    "    - future_years: A list of future years for which you want to make predictions.\n",
    "    - sa2_to_predict: A list of SA2 codes for which predictions should be made.\n",
    "    - feature: The feature (column) in the historical data to predict for.\n",
    "    - file_name: The name of the output files and directory for saving predictions.\n",
    "\n",
    "    Returns:\n",
    "    - None\n",
    "\n",
    "    The function loads historical data from CSV files in the specified directory, performs hyperparameter tuning\n",
    "    to find the best Linear Regression model, and then makes predictions for the specified SA2 codes and future years.\n",
    "    The predictions are saved in CSV files in a structured directory.\n",
    "\n",
    "    \"\"\"\n",
    "\n",
    "    # Get a list of all CSV files in the specified directory\n",
    "    data_filenames = [\n",
    "        os.path.join(\n",
    "        data_directory, filename\n",
    "        ) for filename in os.listdir(data_directory) if filename.endswith('.csv')\n",
    "        ]\n",
    "\n",
    "    # Load historical income data from multiple files\n",
    "    all_data = pd.DataFrame()\n",
    "    for filename in data_filenames:\n",
    "        # Get the base filename without the path and extension\n",
    "        base_filename = os.path.basename(filename)\n",
    "\n",
    "        # Split the filename by '_' and get the year part\n",
    "        year_part = base_filename.split('_')[2]\n",
    "\n",
    "        # Extract the year as an integer\n",
    "        year = int(year_part.split('.')[0])\n",
    "\n",
    "        data = pd.read_csv(filename, index_col='SA2')\n",
    "        data['Year'] = year\n",
    "        all_data = pd.concat([all_data, data])\n",
    "        train_data = all_data.reset_index()\n",
    "\n",
    "    # Define features (X) and target variable (Y)\n",
    "    train_X = train_data[['Year', 'SA2']]\n",
    "    train_Y = train_data[feature]\n",
    "\n",
    "    # Perform hyperparameter tuning for linear regression\n",
    "    param_grid = {\n",
    "        'fit_intercept': [True, False],\n",
    "    }\n",
    "\n",
    "    lr_model = LinearRegression()\n",
    "    grid_search = GridSearchCV(lr_model, param_grid, cv=5)\n",
    "    grid_search.fit(train_X, train_Y)\n",
    "    best_lr_model = grid_search.best_estimator_\n",
    "\n",
    "    # Make predictions for future years and specified SA2 codes\n",
    "    predictions = pd.DataFrame({\n",
    "        'Year': [year for year in future_years for i in sa2_to_predict],\n",
    "        'SA2': [sa2 for i in future_years for sa2 in sa2_to_predict]\n",
    "    })\n",
    "    predictions[feature] = best_lr_model.predict(predictions[['Year', 'SA2']])\n",
    "    predictions.to_csv(f'../data/curated/predict/{file_name}/{file_name}_all.csv', index=False)\n",
    "\n",
    "\n",
    "    for year_name in future_years:\n",
    "        year_pred = predictions[predictions['Year'] == year_name]\n",
    "        year_pred = year_pred[['SA2', feature]]\n",
    "        year_pred.to_csv(f\"../data/curated/predict/{file_name}/{file_name}_{year_name}.csv\", index=False)\n",
    "\n",
    "    return"
   ]
  },
  {
   "cell_type": "code",
   "execution_count": 7,
   "metadata": {},
   "outputs": [],
   "source": [
    "gdf = gpd.read_file('../data/raw/SA2_shapefile/VIC_SA2_2021_AUST_GDA2020.shp')\n",
    "sa2_to_predict = gdf['SA2_CODE21'].tolist()\n",
    "\n",
    "future_years = [2023, 2024, 2025, 2026]\n",
    "FEATURES = ['income', 'population', 'crime']\n",
    "\n",
    "for feature in FEATURES:\n",
    "    data_directory = f'../data/curated/train/{feature}_data/'\n",
    "\n",
    "    if feature == 'crime':\n",
    "        # we have 2023 data for crime\n",
    "        predict_future(data_directory, future_years[1:], sa2_to_predict, f'avg_{feature}', f'{feature}_data')\n",
    "\n",
    "    else:\n",
    "        predict_future(data_directory, future_years, sa2_to_predict, f'avg_{feature}', f'{feature}_data')"
   ]
  }
 ],
 "metadata": {
  "kernelspec": {
   "display_name": "myenv",
   "language": "python",
   "name": "python3"
  },
  "language_info": {
   "codemirror_mode": {
    "name": "ipython",
    "version": 3
   },
   "file_extension": ".py",
   "mimetype": "text/x-python",
   "name": "python",
   "nbconvert_exporter": "python",
   "pygments_lexer": "ipython3",
   "version": "3.10.12"
  },
  "orig_nbformat": 4
 },
 "nbformat": 4,
 "nbformat_minor": 2
}
