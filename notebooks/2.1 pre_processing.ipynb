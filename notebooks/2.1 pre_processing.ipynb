{
 "cells": [
  {
   "cell_type": "markdown",
   "metadata": {},
   "source": [
    "# Domain Pre-Processing"
   ]
  },
  {
   "cell_type": "code",
   "execution_count": 1,
   "metadata": {},
   "outputs": [],
   "source": [
    "import json\n",
    "import pandas as pd\n",
    "import re"
   ]
  },
  {
   "cell_type": "code",
   "execution_count": 2,
   "metadata": {},
   "outputs": [],
   "source": [
    "with open('../data/landing/domain.json', 'r') as json_file:\n",
    "    data = json.load(json_file)"
   ]
  },
  {
   "cell_type": "code",
   "execution_count": 3,
   "metadata": {},
   "outputs": [
    {
     "data": {
      "text/plain": [
       "name           9840\n",
       "cost_text      9840\n",
       "rooms          9840\n",
       "parking        9840\n",
       "coordinates    9840\n",
       "desc           9840\n",
       "dtype: int64"
      ]
     },
     "execution_count": 3,
     "metadata": {},
     "output_type": "execute_result"
    }
   ],
   "source": [
    "df = pd.DataFrame.from_dict(data).T\n",
    "df.count()"
   ]
  },
  {
   "cell_type": "markdown",
   "metadata": {},
   "source": [
    "## Extract Some Features"
   ]
  },
  {
   "cell_type": "code",
   "execution_count": 4,
   "metadata": {},
   "outputs": [],
   "source": [
    "def extract_price(cost_text):\n",
    "\n",
    "    \"\"\"\n",
    "    Extracts a price value from a given text containing prices.\n",
    "    \"\"\"\n",
    "\n",
    "    # Pattern for prices with or without commas as thousands separators\n",
    "    price_pattern = r'\\$([\\d,]+(?:\\.\\d+)?)'\n",
    "    \n",
    "    # Find all price matches in the text\n",
    "    prices = re.findall(price_pattern, cost_text)\n",
    "    \n",
    "    if prices:\n",
    "        # Extract the first match\n",
    "        price_str = prices[0]\n",
    "        \n",
    "        # Remove commas and dollar sign, then convert to float\n",
    "        price_str = price_str.replace(',', '').replace('$', '')\n",
    "        \n",
    "        try:\n",
    "            return float(price_str)\n",
    "        except ValueError:\n",
    "            return None\n",
    "    else:\n",
    "        return None\n"
   ]
  },
  {
   "cell_type": "code",
   "execution_count": 5,
   "metadata": {},
   "outputs": [],
   "source": [
    "def extract_bed(rooms):\n",
    "\n",
    "    \"\"\"\n",
    "    Extracts the number of beds from a string containing room information.\n",
    "    \"\"\"\n",
    "    \n",
    "    bed_pattern = r'(\\d)\\sBed'\n",
    "    bed_matches = re.findall(bed_pattern, str(rooms))\n",
    "    \n",
    "    # If there are bed matches, return the first one as an integer, otherwise return None\n",
    "    return int(bed_matches[0]) if bed_matches else None"
   ]
  },
  {
   "cell_type": "code",
   "execution_count": 6,
   "metadata": {},
   "outputs": [],
   "source": [
    "def extract_bath(rooms):\n",
    "\n",
    "    \"\"\"\n",
    "    Extracts the number of baths from a string containing room information.\n",
    "    \"\"\"\n",
    "\n",
    "    bath_pattern = r'(\\d)\\sBath'\n",
    "    bath_matches = re.findall(bath_pattern, str(rooms))\n",
    "\n",
    "    return int(bath_matches[0]) if bath_matches else None"
   ]
  },
  {
   "cell_type": "code",
   "execution_count": 7,
   "metadata": {},
   "outputs": [],
   "source": [
    "def extract_parking(parking):\n",
    "\n",
    "    \"\"\"\n",
    "    Extracts the number of parking from a string containing parking information.\n",
    "    \"\"\"\n",
    "\n",
    "    parking_pattern = r'(\\d)\\sParking'\n",
    "    parking_matches = re.findall(parking_pattern, str(parking))\n",
    "\n",
    "    # If there are parking matches, return the first one as an integer, otherwise return 0\n",
    "    return int(parking_matches[0]) if parking_matches else 0"
   ]
  },
  {
   "cell_type": "code",
   "execution_count": 8,
   "metadata": {},
   "outputs": [],
   "source": [
    "df['price'] = df['cost_text'].apply(extract_price)\n",
    "df['bed'] = df['rooms'].apply(extract_bed)\n",
    "df['bath'] = df['rooms'].apply(extract_bath)\n",
    "df['park_num'] = df['parking'].apply(extract_parking)\n",
    "\n",
    "df['postcode'] = df['name'].str[-4:]\n",
    "df['Latitude'] = df['coordinates'].apply(lambda x: x[0] if x is not None else None)\n",
    "df['Longitude'] = df['coordinates'].apply(lambda x: x[1] if x is not None else None)"
   ]
  },
  {
   "cell_type": "markdown",
   "metadata": {},
   "source": [
    "## Feature Engineering"
   ]
  },
  {
   "cell_type": "code",
   "execution_count": 9,
   "metadata": {},
   "outputs": [
    {
     "data": {
      "text/html": [
       "<div>\n",
       "<style scoped>\n",
       "    .dataframe tbody tr th:only-of-type {\n",
       "        vertical-align: middle;\n",
       "    }\n",
       "\n",
       "    .dataframe tbody tr th {\n",
       "        vertical-align: top;\n",
       "    }\n",
       "\n",
       "    .dataframe thead th {\n",
       "        text-align: right;\n",
       "    }\n",
       "</style>\n",
       "<table border=\"1\" class=\"dataframe\">\n",
       "  <thead>\n",
       "    <tr style=\"text-align: right;\">\n",
       "      <th></th>\n",
       "      <th>name</th>\n",
       "      <th>coordinates</th>\n",
       "      <th>price</th>\n",
       "      <th>bed</th>\n",
       "      <th>bath</th>\n",
       "      <th>park_num</th>\n",
       "      <th>postcode</th>\n",
       "      <th>Latitude</th>\n",
       "      <th>Longitude</th>\n",
       "    </tr>\n",
       "  </thead>\n",
       "  <tbody>\n",
       "    <tr>\n",
       "      <th>0</th>\n",
       "      <td>2010/7 Katherine Place Melbourne VIC 3000</td>\n",
       "      <td>[-37.8201858, 144.9564628]</td>\n",
       "      <td>675.0</td>\n",
       "      <td>2.0</td>\n",
       "      <td>2.0</td>\n",
       "      <td>0</td>\n",
       "      <td>3000</td>\n",
       "      <td>-37.820186</td>\n",
       "      <td>144.956463</td>\n",
       "    </tr>\n",
       "    <tr>\n",
       "      <th>1</th>\n",
       "      <td>1308/68 La Trobe Street Melbourne VIC 3000</td>\n",
       "      <td>[-37.8083648, 144.9667899]</td>\n",
       "      <td>570.0</td>\n",
       "      <td>2.0</td>\n",
       "      <td>1.0</td>\n",
       "      <td>1</td>\n",
       "      <td>3000</td>\n",
       "      <td>-37.808365</td>\n",
       "      <td>144.966790</td>\n",
       "    </tr>\n",
       "    <tr>\n",
       "      <th>2</th>\n",
       "      <td>1307/268 Flinders Street Melbourne VIC 3000</td>\n",
       "      <td>[-37.8178134, 144.9655688]</td>\n",
       "      <td>400.0</td>\n",
       "      <td>1.0</td>\n",
       "      <td>1.0</td>\n",
       "      <td>0</td>\n",
       "      <td>3000</td>\n",
       "      <td>-37.817813</td>\n",
       "      <td>144.965569</td>\n",
       "    </tr>\n",
       "    <tr>\n",
       "      <th>3</th>\n",
       "      <td>407/62-68 Hayward Lane Melbourne VIC 3000</td>\n",
       "      <td>[-37.8089779, 144.9668783]</td>\n",
       "      <td>350.0</td>\n",
       "      <td>0.0</td>\n",
       "      <td>1.0</td>\n",
       "      <td>0</td>\n",
       "      <td>3000</td>\n",
       "      <td>-37.808978</td>\n",
       "      <td>144.966878</td>\n",
       "    </tr>\n",
       "    <tr>\n",
       "      <th>4</th>\n",
       "      <td>403/39 Queen Street Melbourne VIC 3000</td>\n",
       "      <td>[-37.817888, 144.9617372]</td>\n",
       "      <td>450.0</td>\n",
       "      <td>0.0</td>\n",
       "      <td>1.0</td>\n",
       "      <td>0</td>\n",
       "      <td>3000</td>\n",
       "      <td>-37.817888</td>\n",
       "      <td>144.961737</td>\n",
       "    </tr>\n",
       "  </tbody>\n",
       "</table>\n",
       "</div>"
      ],
      "text/plain": [
       "                                          name                 coordinates  \\\n",
       "0    2010/7 Katherine Place Melbourne VIC 3000  [-37.8201858, 144.9564628]   \n",
       "1   1308/68 La Trobe Street Melbourne VIC 3000  [-37.8083648, 144.9667899]   \n",
       "2  1307/268 Flinders Street Melbourne VIC 3000  [-37.8178134, 144.9655688]   \n",
       "3    407/62-68 Hayward Lane Melbourne VIC 3000  [-37.8089779, 144.9668783]   \n",
       "4       403/39 Queen Street Melbourne VIC 3000   [-37.817888, 144.9617372]   \n",
       "\n",
       "   price  bed  bath  park_num postcode   Latitude   Longitude  \n",
       "0  675.0  2.0   2.0         0     3000 -37.820186  144.956463  \n",
       "1  570.0  2.0   1.0         1     3000 -37.808365  144.966790  \n",
       "2  400.0  1.0   1.0         0     3000 -37.817813  144.965569  \n",
       "3  350.0  0.0   1.0         0     3000 -37.808978  144.966878  \n",
       "4  450.0  0.0   1.0         0     3000 -37.817888  144.961737  "
      ]
     },
     "execution_count": 9,
     "metadata": {},
     "output_type": "execute_result"
    }
   ],
   "source": [
    "# drop some insufficient features\n",
    "df.reset_index(drop=True, inplace=True)\n",
    "columns_to_drop = ['cost_text', 'rooms', 'parking', 'desc']\n",
    "df.drop(columns=columns_to_drop, inplace=True)\n",
    "\n",
    "df = df.dropna(axis=0,how='any') # delete price = NaN\n",
    "df.head()"
   ]
  },
  {
   "cell_type": "code",
   "execution_count": 10,
   "metadata": {},
   "outputs": [],
   "source": [
    "output_path = \"../data/raw/domain.csv\"\n",
    "df.to_csv(output_path, index=False)"
   ]
  }
 ],
 "metadata": {
  "kernelspec": {
   "display_name": "mast30034",
   "language": "python",
   "name": "python3"
  },
  "language_info": {
   "codemirror_mode": {
    "name": "ipython",
    "version": 3
   },
   "file_extension": ".py",
   "mimetype": "text/x-python",
   "name": "python",
   "nbconvert_exporter": "python",
   "pygments_lexer": "ipython3",
   "version": "3.8.17"
  },
  "orig_nbformat": 4
 },
 "nbformat": 4,
 "nbformat_minor": 2
}
