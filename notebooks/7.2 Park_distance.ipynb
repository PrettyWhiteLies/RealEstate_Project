{
 "cells": [
  {
   "cell_type": "markdown",
   "metadata": {},
   "source": [
    "# Calculate Straight-Line Distance for park"
   ]
  },
  {
   "cell_type": "code",
   "execution_count": 1,
   "metadata": {},
   "outputs": [],
   "source": [
    "import requests\n",
    "import pandas as pd\n",
    "import re\n",
    "import numpy as np\n",
    "import seaborn as sns\n",
    "import matplotlib.pyplot as plt\n",
    "import time"
   ]
  },
  {
   "cell_type": "code",
   "execution_count": 2,
   "metadata": {},
   "outputs": [
    {
     "data": {
      "text/html": [
       "<div>\n",
       "<style scoped>\n",
       "    .dataframe tbody tr th:only-of-type {\n",
       "        vertical-align: middle;\n",
       "    }\n",
       "\n",
       "    .dataframe tbody tr th {\n",
       "        vertical-align: top;\n",
       "    }\n",
       "\n",
       "    .dataframe thead th {\n",
       "        text-align: right;\n",
       "    }\n",
       "</style>\n",
       "<table border=\"1\" class=\"dataframe\">\n",
       "  <thead>\n",
       "    <tr style=\"text-align: right;\">\n",
       "      <th></th>\n",
       "      <th>title</th>\n",
       "      <th>latitude</th>\n",
       "      <th>longitude</th>\n",
       "    </tr>\n",
       "  </thead>\n",
       "  <tbody>\n",
       "    <tr>\n",
       "      <th>0</th>\n",
       "      <td>Yarra Ranges National Park</td>\n",
       "      <td>-37.682829</td>\n",
       "      <td>145.978727</td>\n",
       "    </tr>\n",
       "    <tr>\n",
       "      <th>1</th>\n",
       "      <td>Wyperfeld National Park</td>\n",
       "      <td>-35.585065</td>\n",
       "      <td>142.052018</td>\n",
       "    </tr>\n",
       "    <tr>\n",
       "      <th>2</th>\n",
       "      <td>Wilsons Promontory National Park</td>\n",
       "      <td>-39.027074</td>\n",
       "      <td>146.333818</td>\n",
       "    </tr>\n",
       "    <tr>\n",
       "      <th>3</th>\n",
       "      <td>Werribee Gorge State Park</td>\n",
       "      <td>-37.663112</td>\n",
       "      <td>144.363175</td>\n",
       "    </tr>\n",
       "    <tr>\n",
       "      <th>4</th>\n",
       "      <td>Warrandyte State Park</td>\n",
       "      <td>-37.735107</td>\n",
       "      <td>145.204488</td>\n",
       "    </tr>\n",
       "  </tbody>\n",
       "</table>\n",
       "</div>"
      ],
      "text/plain": [
       "                              title   latitude   longitude\n",
       "0        Yarra Ranges National Park -37.682829  145.978727\n",
       "1           Wyperfeld National Park -35.585065  142.052018\n",
       "2  Wilsons Promontory National Park -39.027074  146.333818\n",
       "3         Werribee Gorge State Park -37.663112  144.363175\n",
       "4             Warrandyte State Park -37.735107  145.204488"
      ]
     },
     "execution_count": 2,
     "metadata": {},
     "output_type": "execute_result"
    }
   ],
   "source": [
    "park = pd.read_json('../data/landing/parks.json')\n",
    "park.head()"
   ]
  },
  {
   "cell_type": "code",
   "execution_count": 3,
   "metadata": {},
   "outputs": [],
   "source": [
    "def distance(lat1, lon1, lat2, lon2):\n",
    "\n",
    "    \"\"\"\n",
    "    Calculate the approximate distance between two sets of latitude and longitude coordinates using a simplified method.\n",
    "\n",
    "    Parameters:\n",
    "    - lat1, lon1: Latitude and longitude of the first location.\n",
    "    - lat2, lon2: Latitude and longitude of the second location.\n",
    "\n",
    "    Returns:\n",
    "    - float: The approximate distance between the two locations in kilometers.\n",
    "    \"\"\"\n",
    "    \n",
    "    lat_diff = (lat2 - lat1) * 111\n",
    "\n",
    "    # 1 degree of longitude varies, we use an approximation based on the average latitude\n",
    "    avg_lat = np.radians((lat1 + lat2) / 2.0)  # Convert average latitude to radians\n",
    "    lon_diff = (lon2 - lon1) * 111 * np.cos(avg_lat)\n",
    "\n",
    "    # Calculate the distance using the Pythagorean theorem on the lat_diff and lon_diff\n",
    "    return np.sqrt(lat_diff**2 + lon_diff**2)"
   ]
  },
  {
   "cell_type": "code",
   "execution_count": 4,
   "metadata": {},
   "outputs": [],
   "source": [
    "def find_nearest_park(house_lat, house_lon, park):\n",
    "\n",
    "    \"\"\"\n",
    "    Find the distance from a house to the nearest park in a DataFrame.\n",
    "\n",
    "    Parameters:\n",
    "    - house_lat: Latitude of the house.\n",
    "    - house_lon: Longitude of the house.\n",
    "    - park: DataFrame containing park locations with 'latitude' and 'longitude' columns.\n",
    "\n",
    "    Returns:\n",
    "    - float: The distance to the nearest park.\n",
    "    \"\"\"\n",
    "    \n",
    "    # Calculate the distance from the property to each park station coordinate\n",
    "    distances = park.apply(\n",
    "        lambda row: distance(house_lat, house_lon, row['latitude'], row['longitude']), \n",
    "        axis=1\n",
    "    )\n",
    "\n",
    "    # Return the closest distance\n",
    "    return distances.min()"
   ]
  },
  {
   "cell_type": "code",
   "execution_count": 5,
   "metadata": {},
   "outputs": [],
   "source": [
    "df = pd.read_csv('../data/raw/domain_outliers_removed.csv')"
   ]
  },
  {
   "cell_type": "code",
   "execution_count": 6,
   "metadata": {},
   "outputs": [],
   "source": [
    "# Create another column which represents the distance to the nearest park \n",
    "df['NearestParkDistance'] = df.apply(\n",
    "    lambda row: find_nearest_park(row['Latitude'], row['Longitude'], park), \n",
    "    axis=1\n",
    ")\n",
    "\n",
    "# Output the csv file\n",
    "df.to_csv(\"../data/raw/merge_requirement/Direct_park.csv\")"
   ]
  }
 ],
 "metadata": {
  "kernelspec": {
   "display_name": "Python 3",
   "language": "python",
   "name": "python3"
  },
  "language_info": {
   "codemirror_mode": {
    "name": "ipython",
    "version": 3
   },
   "file_extension": ".py",
   "mimetype": "text/x-python",
   "name": "python",
   "nbconvert_exporter": "python",
   "pygments_lexer": "ipython3",
   "version": "3.8.17"
  },
  "orig_nbformat": 4
 },
 "nbformat": 4,
 "nbformat_minor": 2
}
