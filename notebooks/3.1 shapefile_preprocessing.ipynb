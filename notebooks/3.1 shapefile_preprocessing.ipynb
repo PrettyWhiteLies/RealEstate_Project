{
 "cells": [
  {
   "cell_type": "code",
   "execution_count": 1,
   "metadata": {},
   "outputs": [],
   "source": [
    "import geopandas as gpd\n",
    "from shapely.geometry import Point\n",
    "import os"
   ]
  },
  {
   "cell_type": "markdown",
   "metadata": {},
   "source": [
    "# Create folders of shapefiles"
   ]
  },
  {
   "cell_type": "code",
   "execution_count": 2,
   "metadata": {},
   "outputs": [],
   "source": [
    "folder_path_SA2 = '../data/raw/SA2_shapefile'\n",
    "\n",
    "if not os.path.exists(folder_path_SA2):\n",
    "    os.makedirs(folder_path_SA2)\n",
    "\n",
    "folder_path_postcode = '../data/raw/postcode_shapefile'\n",
    "\n",
    "if not os.path.exists(folder_path_postcode):\n",
    "    os.makedirs(folder_path_postcode)"
   ]
  },
  {
   "cell_type": "markdown",
   "metadata": {},
   "source": [
    "# Shapefile of SA2"
   ]
  },
  {
   "cell_type": "code",
   "execution_count": 3,
   "metadata": {},
   "outputs": [],
   "source": [
    "gdf = gpd.read_file('../data/landing/SA2_2021_AUST_SHP_GDA2020/SA2_2021_AUST_GDA2020.shp')"
   ]
  },
  {
   "cell_type": "markdown",
   "metadata": {},
   "source": [
    "## Pre-Processing"
   ]
  },
  {
   "cell_type": "code",
   "execution_count": 4,
   "metadata": {},
   "outputs": [
    {
     "data": {
      "text/html": [
       "<div>\n",
       "<style scoped>\n",
       "    .dataframe tbody tr th:only-of-type {\n",
       "        vertical-align: middle;\n",
       "    }\n",
       "\n",
       "    .dataframe tbody tr th {\n",
       "        vertical-align: top;\n",
       "    }\n",
       "\n",
       "    .dataframe thead th {\n",
       "        text-align: right;\n",
       "    }\n",
       "</style>\n",
       "<table border=\"1\" class=\"dataframe\">\n",
       "  <thead>\n",
       "    <tr style=\"text-align: right;\">\n",
       "      <th></th>\n",
       "      <th>SA2_CODE21</th>\n",
       "      <th>SA2_NAME21</th>\n",
       "      <th>AUS_CODE21</th>\n",
       "      <th>AREASQKM21</th>\n",
       "      <th>geometry</th>\n",
       "    </tr>\n",
       "  </thead>\n",
       "  <tbody>\n",
       "    <tr>\n",
       "      <th>644</th>\n",
       "      <td>201011001</td>\n",
       "      <td>Alfredton</td>\n",
       "      <td>AUS</td>\n",
       "      <td>52.7109</td>\n",
       "      <td>POLYGON ((143.78282 -37.56666, 143.75558 -37.5...</td>\n",
       "    </tr>\n",
       "    <tr>\n",
       "      <th>645</th>\n",
       "      <td>201011002</td>\n",
       "      <td>Ballarat</td>\n",
       "      <td>AUS</td>\n",
       "      <td>12.3787</td>\n",
       "      <td>POLYGON ((143.81896 -37.55582, 143.81644 -37.5...</td>\n",
       "    </tr>\n",
       "    <tr>\n",
       "      <th>646</th>\n",
       "      <td>201011005</td>\n",
       "      <td>Buninyong</td>\n",
       "      <td>AUS</td>\n",
       "      <td>51.5855</td>\n",
       "      <td>POLYGON ((143.84171 -37.61596, 143.84176 -37.6...</td>\n",
       "    </tr>\n",
       "    <tr>\n",
       "      <th>647</th>\n",
       "      <td>201011006</td>\n",
       "      <td>Delacombe</td>\n",
       "      <td>AUS</td>\n",
       "      <td>34.1607</td>\n",
       "      <td>POLYGON ((143.75050 -37.59119, 143.75044 -37.5...</td>\n",
       "    </tr>\n",
       "    <tr>\n",
       "      <th>648</th>\n",
       "      <td>201011007</td>\n",
       "      <td>Smythes Creek</td>\n",
       "      <td>AUS</td>\n",
       "      <td>104.7274</td>\n",
       "      <td>POLYGON ((143.73296 -37.62333, 143.73263 -37.6...</td>\n",
       "    </tr>\n",
       "  </tbody>\n",
       "</table>\n",
       "</div>"
      ],
      "text/plain": [
       "     SA2_CODE21     SA2_NAME21 AUS_CODE21  AREASQKM21  \\\n",
       "644   201011001      Alfredton        AUS     52.7109   \n",
       "645   201011002       Ballarat        AUS     12.3787   \n",
       "646   201011005      Buninyong        AUS     51.5855   \n",
       "647   201011006      Delacombe        AUS     34.1607   \n",
       "648   201011007  Smythes Creek        AUS    104.7274   \n",
       "\n",
       "                                              geometry  \n",
       "644  POLYGON ((143.78282 -37.56666, 143.75558 -37.5...  \n",
       "645  POLYGON ((143.81896 -37.55582, 143.81644 -37.5...  \n",
       "646  POLYGON ((143.84171 -37.61596, 143.84176 -37.6...  \n",
       "647  POLYGON ((143.75050 -37.59119, 143.75044 -37.5...  \n",
       "648  POLYGON ((143.73296 -37.62333, 143.73263 -37.6...  "
      ]
     },
     "execution_count": 4,
     "metadata": {},
     "output_type": "execute_result"
    }
   ],
   "source": [
    "# Only keep Victoria\n",
    "vic_gdf = gdf[gdf['STE_NAME21'] == 'Victoria']\n",
    "\n",
    "# Keep only the desired columns\n",
    "columns_to_keep = ['SA2_CODE21', 'SA2_NAME21', 'AUS_CODE21', 'AREASQKM21', 'geometry']\n",
    "vic_gdf = vic_gdf[columns_to_keep]\n",
    "\n",
    "# Drop the last two rows\n",
    "vic_gdf = vic_gdf.iloc[:-2]\n",
    "\n",
    "# Change to int type\n",
    "vic_gdf['SA2_CODE21'] = vic_gdf['SA2_CODE21'].astype(int)\n",
    "\n",
    "vic_gdf.head()"
   ]
  },
  {
   "cell_type": "code",
   "execution_count": 5,
   "metadata": {},
   "outputs": [],
   "source": [
    "output_path = \"../data/raw/SA2_shapefile/VIC_SA2_2021_AUST_GDA2020.shp\"\n",
    "vic_gdf.to_file(output_path)"
   ]
  },
  {
   "cell_type": "markdown",
   "metadata": {},
   "source": [
    "## Shapefile of Postcode"
   ]
  },
  {
   "cell_type": "code",
   "execution_count": 6,
   "metadata": {},
   "outputs": [],
   "source": [
    "gdf = gpd.read_file('../data/landing/POA_2021_AUST_GDA2020_SHP/POA_2021_AUST_GDA2020.shp')\n",
    "gdf = gdf.iloc[:-1]\n",
    "gdf['POA_CODE21'] = gdf['POA_CODE21'].astype(int)\n",
    "# keep postcode between 3000 and 4000 which is victorial\n",
    "gdf = gdf[(gdf['POA_CODE21'] >= 3000) & (gdf['POA_CODE21'] <= 4000)]"
   ]
  },
  {
   "cell_type": "code",
   "execution_count": 7,
   "metadata": {},
   "outputs": [
    {
     "data": {
      "text/html": [
       "<div>\n",
       "<style scoped>\n",
       "    .dataframe tbody tr th:only-of-type {\n",
       "        vertical-align: middle;\n",
       "    }\n",
       "\n",
       "    .dataframe tbody tr th {\n",
       "        vertical-align: top;\n",
       "    }\n",
       "\n",
       "    .dataframe thead th {\n",
       "        text-align: right;\n",
       "    }\n",
       "</style>\n",
       "<table border=\"1\" class=\"dataframe\">\n",
       "  <thead>\n",
       "    <tr style=\"text-align: right;\">\n",
       "      <th></th>\n",
       "      <th>POA_CODE21</th>\n",
       "      <th>geometry</th>\n",
       "    </tr>\n",
       "  </thead>\n",
       "  <tbody>\n",
       "    <tr>\n",
       "      <th>672</th>\n",
       "      <td>3000</td>\n",
       "      <td>POLYGON ((144.96139 -37.82050, 144.96063 -37.8...</td>\n",
       "    </tr>\n",
       "    <tr>\n",
       "      <th>673</th>\n",
       "      <td>3002</td>\n",
       "      <td>POLYGON ((144.98978 -37.81906, 144.98973 -37.8...</td>\n",
       "    </tr>\n",
       "    <tr>\n",
       "      <th>674</th>\n",
       "      <td>3003</td>\n",
       "      <td>POLYGON ((144.95268 -37.81280, 144.95191 -37.8...</td>\n",
       "    </tr>\n",
       "    <tr>\n",
       "      <th>675</th>\n",
       "      <td>3004</td>\n",
       "      <td>POLYGON ((144.98001 -37.84422, 144.98031 -37.8...</td>\n",
       "    </tr>\n",
       "    <tr>\n",
       "      <th>676</th>\n",
       "      <td>3006</td>\n",
       "      <td>POLYGON ((144.96139 -37.82050, 144.96303 -37.8...</td>\n",
       "    </tr>\n",
       "  </tbody>\n",
       "</table>\n",
       "</div>"
      ],
      "text/plain": [
       "     POA_CODE21                                           geometry\n",
       "672        3000  POLYGON ((144.96139 -37.82050, 144.96063 -37.8...\n",
       "673        3002  POLYGON ((144.98978 -37.81906, 144.98973 -37.8...\n",
       "674        3003  POLYGON ((144.95268 -37.81280, 144.95191 -37.8...\n",
       "675        3004  POLYGON ((144.98001 -37.84422, 144.98031 -37.8...\n",
       "676        3006  POLYGON ((144.96139 -37.82050, 144.96303 -37.8..."
      ]
     },
     "execution_count": 7,
     "metadata": {},
     "output_type": "execute_result"
    }
   ],
   "source": [
    "columns_to_keep = ['POA_CODE21', 'geometry']\n",
    "gdf = gdf[columns_to_keep]\n",
    "gdf.head()"
   ]
  },
  {
   "cell_type": "code",
   "execution_count": 8,
   "metadata": {},
   "outputs": [],
   "source": [
    "output_path = \"../data/raw/postcode_shapefile/POA_2021_AUST_GDA2020.shp\"\n",
    "gdf.to_file(output_path)"
   ]
  }
 ],
 "metadata": {
  "kernelspec": {
   "display_name": "myenv",
   "language": "python",
   "name": "python3"
  },
  "language_info": {
   "codemirror_mode": {
    "name": "ipython",
    "version": 3
   },
   "file_extension": ".py",
   "mimetype": "text/x-python",
   "name": "python",
   "nbconvert_exporter": "python",
   "pygments_lexer": "ipython3",
   "version": "3.8.17"
  },
  "orig_nbformat": 4
 },
 "nbformat": 4,
 "nbformat_minor": 2
}
