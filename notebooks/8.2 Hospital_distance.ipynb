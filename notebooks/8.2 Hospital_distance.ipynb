{
 "cells": [
  {
   "cell_type": "markdown",
   "metadata": {},
   "source": [
    "# Using OSRM to dertermin the drive distance"
   ]
  },
  {
   "cell_type": "code",
   "execution_count": 1,
   "metadata": {},
   "outputs": [],
   "source": [
    "import time\n",
    "import numpy as np\n",
    "import requests\n",
    "import pandas as pd\n",
    "import os"
   ]
  },
  {
   "cell_type": "code",
   "execution_count": 2,
   "metadata": {},
   "outputs": [],
   "source": [
    "def distance(lat1, lon1, lat2, lon2):\n",
    "\n",
    "    \"\"\"\n",
    "    Calculate the approximate distance between two sets of latitude and longitude coordinates using a simplified method.\n",
    "\n",
    "    Parameters:\n",
    "    - lat1, lon1: Latitude and longitude of the first location.\n",
    "    - lat2, lon2: Latitude and longitude of the second location.\n",
    "\n",
    "    Returns:\n",
    "    - float: The approximate distance between the two locations in kilometers.\n",
    "    \"\"\"\n",
    "    \n",
    "    lat_diff = (lat2 - lat1) * 111\n",
    "\n",
    "    # 1 degree of longitude varies, we use an approximation based on the average latitude\n",
    "    avg_lat = np.radians((lat1 + lat2) / 2.0)  # Convert average latitude to radians\n",
    "    lon_diff = (lon2 - lon1) * 111 * np.cos(avg_lat)\n",
    "\n",
    "    # Calculate the distance using the Pythagorean theorem on the lat_diff and lon_diff\n",
    "    return np.sqrt(lat_diff**2 + lon_diff**2)"
   ]
  },
  {
   "cell_type": "code",
   "execution_count": 3,
   "metadata": {},
   "outputs": [],
   "source": [
    "def get_driving_distance(lat1, lon1, lat2, lon2):\n",
    "\n",
    "    \"\"\"\n",
    "    Calculate the driving distance between two sets of latitude and longitude coordinates.\n",
    "\n",
    "    Parameters:\n",
    "    - lat1: Latitude of the starting location.\n",
    "    - lon1: Longitude of the starting location.\n",
    "    - lat2: Latitude of the destination location.\n",
    "    - lon2: Longitude of the destination location.\n",
    "\n",
    "    Returns:\n",
    "    - distance_kilometers: The driving distance in kilometers.\n",
    "\n",
    "    This function uses the OSRM (Open Source Routing Machine) service to calculate the driving \n",
    "    distance between two sets of coordinates. It sends a request to the OSRM API and retrieves \n",
    "    the distance in meters, which is then converted to kilometers and returned. If no route is \n",
    "    found or an error occurs, it returns NaN (Not-a-Number).\n",
    "    \"\"\"\n",
    "\n",
    "    base_url = \"http://router.project-osrm.org/route/v1/driving/\"\n",
    "    coordinates = f\"{lon1},{lat1};{lon2},{lat2}\"  # OSRM uses (longitude,latitude)\n",
    "    url = base_url + coordinates + \"?overview=false\"\n",
    "    response = requests.get(url)\n",
    "    data = response.json()\n",
    "\n",
    "    if 'routes' not in data or not data['routes']:\n",
    "        return np.nan  # Return NaN if no route is found or an error occurs\n",
    "\n",
    "    # Extract and return the driving distance (in meters) converted to kilometers\n",
    "    distance_meters = data['routes'][0]['distance']\n",
    "    distance_kilometers = distance_meters / 1000\n",
    "    return distance_kilometers\n"
   ]
  },
  {
   "cell_type": "code",
   "execution_count": 4,
   "metadata": {},
   "outputs": [],
   "source": [
    "def find_nearest_hospital(house_lat, house_lon, hospital):\n",
    "    \"\"\"\n",
    "    Find the nearest hospital(s) to a given house location and calculate the minimum driving distance.\n",
    "\n",
    "    Parameters:\n",
    "    - house_lat: Latitude of the house's location.\n",
    "    - house_lon: Longitude of the house's location.\n",
    "    - hospital: A DataFrame containing hospital information with 'latitude' and 'longitude' columns.\n",
    "\n",
    "    Returns:\n",
    "    - min_driving_distance: The minimum driving distance to the nearest hospital(s).\n",
    "\n",
    "    This function takes the latitude and longitude of a house's location and a DataFrame containing \n",
    "    hospital information. It calculates the Euclidean distance from the house to each hospital and \n",
    "    then determines the minimum driving distance to the nearest hospital(s). The function returns \n",
    "    the minimum driving distance.\n",
    "    \"\"\"\n",
    "\n",
    "    distances = []\n",
    "\n",
    "    # Calculate distances to all hospitals\n",
    "    for index, row in hospital.iterrows():\n",
    "        hospital_lat, hospital_lon = row['latitude'], row['longitude']\n",
    "        dist = distance(house_lat, house_lon, hospital_lat, hospital_lon)\n",
    "        distances.append((hospital_lat, hospital_lon, dist))\n",
    "\n",
    "    # Find the three nearest hospitals by sorting the distances\n",
    "    nearest_hospitals = sorted(distances, key=lambda x: x[2])[:3]\n",
    "\n",
    "    min_driving_distance = float('inf')\n",
    "\n",
    "    # Calculate the minimum driving distance to the nearest hospitals\n",
    "    for hospital_lat, hospital_lon, _ in nearest_hospitals:\n",
    "        driving_distance = get_driving_distance(house_lat, house_lon, hospital_lat, hospital_lon)\n",
    "        min_driving_distance = min(min_driving_distance, driving_distance)\n",
    "\n",
    "    # Print the minimum driving distance and introduce a small delay\n",
    "    print(min_driving_distance)\n",
    "    time.sleep(0.2)\n",
    "\n",
    "    return min_driving_distance\n"
   ]
  },
  {
   "cell_type": "code",
   "execution_count": 5,
   "metadata": {},
   "outputs": [],
   "source": [
    "# create folder for closest driving distance to hospital\n",
    "relative_path = '../data/raw/hospital_distance/'\n",
    "if not os.path.exists(relative_path):\n",
    "    os.makedirs(relative_path)"
   ]
  },
  {
   "cell_type": "markdown",
   "metadata": {},
   "source": [
    "# Apply OSRM function to proporties"
   ]
  },
  {
   "cell_type": "code",
   "execution_count": null,
   "metadata": {},
   "outputs": [],
   "source": [
    "hospital = pd.read_csv('../data/landing/all_hospitals_in_victoria.csv')\n",
    "\n",
    "# Input and output paths\n",
    "input_path = '../data/raw/domain_outliers_removed.csv'\n",
    "output_dir = '../data/raw/hospital_distance/'\n",
    "\n",
    "# Batch processing parameters\n",
    "batch_size = 100\n",
    "total_rows = 8873\n",
    "\n",
    "# Iterate over the input data in batches\n",
    "for batch_start in range(8400, total_rows, batch_size):\n",
    "    # Read a batch of data from the input file\n",
    "    df = pd.read_csv(input_path, skiprows=range(1, batch_start + 1), nrows=batch_size)\n",
    "    \n",
    "    # Calculate the nearest hospital distance for each row in the batch\n",
    "    df['NearestHospitalDistance'] = df.apply(\n",
    "        lambda row: find_nearest_hospital(row['Latitude'], row['Longitude'], hospital),\n",
    "        axis=1\n",
    "    )\n",
    "    \n",
    "    # Determine the batch number for naming the output file\n",
    "    batch_number = (batch_start // batch_size) + 1\n",
    "    \n",
    "    # Define the output file path\n",
    "    output_path = f\"{output_dir}{batch_number}_{batch_start + 1}-{batch_start + batch_size}.csv\"\n",
    "    \n",
    "    # Save the batch of data with hospital distance information to a separate CSV file\n",
    "    df.to_csv(output_path, index=False)\n"
   ]
  }
 ],
 "metadata": {
  "kernelspec": {
   "display_name": "base",
   "language": "python",
   "name": "python3"
  },
  "language_info": {
   "codemirror_mode": {
    "name": "ipython",
    "version": 3
   },
   "file_extension": ".py",
   "mimetype": "text/x-python",
   "name": "python",
   "nbconvert_exporter": "python",
   "pygments_lexer": "ipython3",
   "version": "3.8.17"
  },
  "orig_nbformat": 4
 },
 "nbformat": 4,
 "nbformat_minor": 2
}
