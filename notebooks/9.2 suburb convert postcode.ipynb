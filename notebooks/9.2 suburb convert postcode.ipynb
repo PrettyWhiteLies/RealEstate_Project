{
 "cells": [
  {
   "cell_type": "markdown",
   "metadata": {},
   "source": [
    "# Suburb Convert to Postcode"
   ]
  },
  {
   "cell_type": "code",
   "execution_count": 1,
   "metadata": {},
   "outputs": [],
   "source": [
    "import pandas as pd\n",
    "import requests\n",
    "import json"
   ]
  },
  {
   "cell_type": "markdown",
   "metadata": {},
   "source": [
    "## Fetches Postcode Data and Saves as a JSON File."
   ]
  },
  {
   "cell_type": "code",
   "execution_count": 4,
   "metadata": {},
   "outputs": [],
   "source": [
    "BASE_URL = 'http://v0.postcodeapi.com.au/suburbs/{}.json'\n",
    "HEADERS = {\n",
    "    'Accept': 'application/json; indent=4'\n",
    "}\n",
    "\n",
    "all_data = []\n",
    "\n",
    "# Fetch data for postcodes from 3000 to 4000\n",
    "for postcode in range(3000, 4001):\n",
    "    response = requests.get(BASE_URL.format(postcode), headers=HEADERS)\n",
    "    \n",
    "    if response.status_code == 200:\n",
    "        data = response.json()\n",
    "        all_data.extend(data)\n",
    "    else:\n",
    "        print(f\"Failed to fetch data for postcode: {postcode}\")\n",
    "\n",
    "# Save the collected data as a JSON file\n",
    "with open('../data/landing/postcodes_3000_to_4000.json', 'w', encoding='utf-8') as file:\n",
    "    json.dump(all_data, file, ensure_ascii=False, indent=4)"
   ]
  },
  {
   "cell_type": "code",
   "execution_count": 5,
   "metadata": {},
   "outputs": [],
   "source": [
    "df = pd.read_json('../data/landing/postcodes_3000_to_4000.json')"
   ]
  },
  {
   "cell_type": "markdown",
   "metadata": {},
   "source": [
    "## Processes historical rental price data\n",
    "Extracting suburb names, and saving them in a separate CSV file for later use."
   ]
  },
  {
   "cell_type": "code",
   "execution_count": 7,
   "metadata": {},
   "outputs": [],
   "source": [
    "# Read data from a historical rental price dataset\n",
    "df_hist = pd.read_csv('../data/raw/historical_rental_price_by_suburb.csv')\n",
    "\n",
    "# Extract the 'Name' column and save it as a separate CSV file\n",
    "df_hist['Name'].to_csv('../data/raw/suburb_postcode.csv', index=False)\n",
    "\n",
    "# Read the newly created CSV file containing suburb names and postcodes\n",
    "df_hist = pd.read_csv('../data/raw/suburb_postcode.csv')"
   ]
  },
  {
   "cell_type": "markdown",
   "metadata": {},
   "source": [
    "## Split \"Name\" Column and Expand it into Separate Rows."
   ]
  },
  {
   "cell_type": "code",
   "execution_count": 8,
   "metadata": {},
   "outputs": [],
   "source": [
    "def expand_names_by_dash(df: pd.DataFrame) -> pd.DataFrame:\n",
    "    \"\"\"\n",
    "    Splits the \"Name\" column of a DataFrame by \"-\" and expands into separate rows.\n",
    "    \n",
    "    Parameters:\n",
    "    df: Input dataframe with \"Name\" and \"merge_key\" columns.\n",
    "    \n",
    "    Returns:\n",
    "    pd.DataFrame: Expanded dataframe.\n",
    "    \"\"\"\n",
    "    \n",
    "    rows_list = []\n",
    "    for index, row in df.iterrows():\n",
    "        if '-' in row['Name']:\n",
    "            for name in row['Name'].split('-'):\n",
    "                new_row = {'Name': name}\n",
    "                rows_list.append(new_row)\n",
    "        else:\n",
    "            rows_list.append(row.to_dict())\n",
    "\n",
    "    return pd.DataFrame(rows_list)\n"
   ]
  },
  {
   "cell_type": "code",
   "execution_count": 9,
   "metadata": {},
   "outputs": [
    {
     "data": {
      "text/html": [
       "<div>\n",
       "<style scoped>\n",
       "    .dataframe tbody tr th:only-of-type {\n",
       "        vertical-align: middle;\n",
       "    }\n",
       "\n",
       "    .dataframe tbody tr th {\n",
       "        vertical-align: top;\n",
       "    }\n",
       "\n",
       "    .dataframe thead th {\n",
       "        text-align: right;\n",
       "    }\n",
       "</style>\n",
       "<table border=\"1\" class=\"dataframe\">\n",
       "  <thead>\n",
       "    <tr style=\"text-align: right;\">\n",
       "      <th></th>\n",
       "      <th>Name</th>\n",
       "    </tr>\n",
       "  </thead>\n",
       "  <tbody>\n",
       "    <tr>\n",
       "      <th>0</th>\n",
       "      <td>Albert Park</td>\n",
       "    </tr>\n",
       "    <tr>\n",
       "      <th>1</th>\n",
       "      <td>Middle Park</td>\n",
       "    </tr>\n",
       "    <tr>\n",
       "      <th>2</th>\n",
       "      <td>West St Kilda</td>\n",
       "    </tr>\n",
       "    <tr>\n",
       "      <th>3</th>\n",
       "      <td>Armadale</td>\n",
       "    </tr>\n",
       "    <tr>\n",
       "      <th>4</th>\n",
       "      <td>Carlton North</td>\n",
       "    </tr>\n",
       "  </tbody>\n",
       "</table>\n",
       "</div>"
      ],
      "text/plain": [
       "            Name\n",
       "0    Albert Park\n",
       "1    Middle Park\n",
       "2  West St Kilda\n",
       "3       Armadale\n",
       "4  Carlton North"
      ]
     },
     "execution_count": 9,
     "metadata": {},
     "output_type": "execute_result"
    }
   ],
   "source": [
    "# Expand the \"Name\" column by splitting on dashes and removing rows with \"Name\" equal to 'Group Total'\n",
    "df_hist = expand_names_by_dash(df_hist)\n",
    "df_hist = df_hist[df_hist['Name'] != 'Group Total']\n",
    "df_hist.head()"
   ]
  },
  {
   "cell_type": "markdown",
   "metadata": {},
   "source": [
    "## Rename \"Name\" Column According to the name_changes Dictionary."
   ]
  },
  {
   "cell_type": "code",
   "execution_count": 10,
   "metadata": {},
   "outputs": [
    {
     "data": {
      "text/html": [
       "<div>\n",
       "<style scoped>\n",
       "    .dataframe tbody tr th:only-of-type {\n",
       "        vertical-align: middle;\n",
       "    }\n",
       "\n",
       "    .dataframe tbody tr th {\n",
       "        vertical-align: top;\n",
       "    }\n",
       "\n",
       "    .dataframe thead th {\n",
       "        text-align: right;\n",
       "    }\n",
       "</style>\n",
       "<table border=\"1\" class=\"dataframe\">\n",
       "  <thead>\n",
       "    <tr style=\"text-align: right;\">\n",
       "      <th></th>\n",
       "      <th>Name</th>\n",
       "    </tr>\n",
       "  </thead>\n",
       "  <tbody>\n",
       "    <tr>\n",
       "      <th>0</th>\n",
       "      <td>Albert Park</td>\n",
       "    </tr>\n",
       "    <tr>\n",
       "      <th>1</th>\n",
       "      <td>Middle Park</td>\n",
       "    </tr>\n",
       "    <tr>\n",
       "      <th>2</th>\n",
       "      <td>St Kilda West</td>\n",
       "    </tr>\n",
       "    <tr>\n",
       "      <th>3</th>\n",
       "      <td>Armadale</td>\n",
       "    </tr>\n",
       "    <tr>\n",
       "      <th>4</th>\n",
       "      <td>Carlton North</td>\n",
       "    </tr>\n",
       "    <tr>\n",
       "      <th>...</th>\n",
       "      <td>...</td>\n",
       "    </tr>\n",
       "    <tr>\n",
       "      <th>222</th>\n",
       "      <td>Traralgon</td>\n",
       "    </tr>\n",
       "    <tr>\n",
       "      <th>223</th>\n",
       "      <td>Wangaratta South</td>\n",
       "    </tr>\n",
       "    <tr>\n",
       "      <th>224</th>\n",
       "      <td>Warragul</td>\n",
       "    </tr>\n",
       "    <tr>\n",
       "      <th>225</th>\n",
       "      <td>Warrnambool</td>\n",
       "    </tr>\n",
       "    <tr>\n",
       "      <th>226</th>\n",
       "      <td>Wodonga</td>\n",
       "    </tr>\n",
       "  </tbody>\n",
       "</table>\n",
       "<p>215 rows × 1 columns</p>\n",
       "</div>"
      ],
      "text/plain": [
       "                 Name\n",
       "0         Albert Park\n",
       "1         Middle Park\n",
       "2       St Kilda West\n",
       "3            Armadale\n",
       "4       Carlton North\n",
       "..                ...\n",
       "222         Traralgon\n",
       "223  Wangaratta South\n",
       "224          Warragul\n",
       "225       Warrnambool\n",
       "226           Wodonga\n",
       "\n",
       "[215 rows x 1 columns]"
      ]
     },
     "execution_count": 10,
     "metadata": {},
     "output_type": "execute_result"
    }
   ],
   "source": [
    "# Rename specified values in the \"Name\" column of the DataFrame based on the name_changes dictionary\n",
    "name_changes = {\n",
    "    'St Kilda Rd': 'St Kilda Road Central',\n",
    "    'East St Kilda': 'St Kilda East',\n",
    "    'West St Kilda': 'St Kilda West',\n",
    "    'East Hawthorn': 'Hawthorn East',\n",
    "    'East Brunswick': 'Brunswick East',\n",
    "    'West Brunswick': 'Brunswick West',\n",
    "    'Yarra Ranges': 'Yarra Junction',\n",
    "    'Mt Eliza': 'Mount Eliza',\n",
    "    'Wanagaratta': 'Wangaratta South',\n",
    "    'CBD': 'Melbourne',\n",
    "    'Mt Martha': 'Mount Martha',\n",
    "    'Bendigo East': 'East Bendigo',\n",
    "    'Newcombe': 'Newcomb'\n",
    "}\n",
    "\n",
    "df_hist['Name'] = df_hist['Name'].replace(name_changes)\n",
    "df_hist"
   ]
  },
  {
   "cell_type": "markdown",
   "metadata": {},
   "source": [
    "## Merge the DataFrames and Select Specific Columns"
   ]
  },
  {
   "cell_type": "code",
   "execution_count": 11,
   "metadata": {},
   "outputs": [
    {
     "data": {
      "text/html": [
       "<div>\n",
       "<style scoped>\n",
       "    .dataframe tbody tr th:only-of-type {\n",
       "        vertical-align: middle;\n",
       "    }\n",
       "\n",
       "    .dataframe tbody tr th {\n",
       "        vertical-align: top;\n",
       "    }\n",
       "\n",
       "    .dataframe thead th {\n",
       "        text-align: right;\n",
       "    }\n",
       "</style>\n",
       "<table border=\"1\" class=\"dataframe\">\n",
       "  <thead>\n",
       "    <tr style=\"text-align: right;\">\n",
       "      <th></th>\n",
       "      <th>Name</th>\n",
       "      <th>name</th>\n",
       "      <th>postcode</th>\n",
       "      <th>latitude</th>\n",
       "      <th>longitude</th>\n",
       "    </tr>\n",
       "  </thead>\n",
       "  <tbody>\n",
       "    <tr>\n",
       "      <th>0</th>\n",
       "      <td>Albert Park</td>\n",
       "      <td>Albert Park</td>\n",
       "      <td>3206</td>\n",
       "      <td>-37.8445</td>\n",
       "      <td>144.9530</td>\n",
       "    </tr>\n",
       "    <tr>\n",
       "      <th>1</th>\n",
       "      <td>Middle Park</td>\n",
       "      <td>Middle Park</td>\n",
       "      <td>3206</td>\n",
       "      <td>-37.8512</td>\n",
       "      <td>144.9621</td>\n",
       "    </tr>\n",
       "    <tr>\n",
       "      <th>2</th>\n",
       "      <td>St Kilda West</td>\n",
       "      <td>St Kilda West</td>\n",
       "      <td>3182</td>\n",
       "      <td>-37.8579</td>\n",
       "      <td>144.9715</td>\n",
       "    </tr>\n",
       "    <tr>\n",
       "      <th>3</th>\n",
       "      <td>Armadale</td>\n",
       "      <td>Armadale</td>\n",
       "      <td>3143</td>\n",
       "      <td>-37.8576</td>\n",
       "      <td>145.0202</td>\n",
       "    </tr>\n",
       "    <tr>\n",
       "      <th>4</th>\n",
       "      <td>Carlton North</td>\n",
       "      <td>Carlton North</td>\n",
       "      <td>3054</td>\n",
       "      <td>-37.7847</td>\n",
       "      <td>144.9632</td>\n",
       "    </tr>\n",
       "  </tbody>\n",
       "</table>\n",
       "</div>"
      ],
      "text/plain": [
       "            Name           name  postcode  latitude  longitude\n",
       "0    Albert Park    Albert Park      3206  -37.8445   144.9530\n",
       "1    Middle Park    Middle Park      3206  -37.8512   144.9621\n",
       "2  St Kilda West  St Kilda West      3182  -37.8579   144.9715\n",
       "3       Armadale       Armadale      3143  -37.8576   145.0202\n",
       "4  Carlton North  Carlton North      3054  -37.7847   144.9632"
      ]
     },
     "execution_count": 11,
     "metadata": {},
     "output_type": "execute_result"
    }
   ],
   "source": [
    "# Merge the df_hist and df DataFrames using a left join on the \"Name\" and \"name\" columns\n",
    "df_merge = df_hist.merge(df, left_on='Name', right_on='name', how='left')\n",
    "\n",
    "# Select specific columns from the merged DataFrame\n",
    "df_merge = df_merge[['Name', 'name', 'postcode', 'latitude', 'longitude']]\n",
    "\n",
    "df_merge.head()"
   ]
  },
  {
   "cell_type": "markdown",
   "metadata": {},
   "source": [
    "## Reverse the Name Changes Made Earlier."
   ]
  },
  {
   "cell_type": "code",
   "execution_count": 12,
   "metadata": {},
   "outputs": [
    {
     "data": {
      "text/html": [
       "<div>\n",
       "<style scoped>\n",
       "    .dataframe tbody tr th:only-of-type {\n",
       "        vertical-align: middle;\n",
       "    }\n",
       "\n",
       "    .dataframe tbody tr th {\n",
       "        vertical-align: top;\n",
       "    }\n",
       "\n",
       "    .dataframe thead th {\n",
       "        text-align: right;\n",
       "    }\n",
       "</style>\n",
       "<table border=\"1\" class=\"dataframe\">\n",
       "  <thead>\n",
       "    <tr style=\"text-align: right;\">\n",
       "      <th></th>\n",
       "      <th>Name</th>\n",
       "      <th>name</th>\n",
       "      <th>postcode</th>\n",
       "      <th>latitude</th>\n",
       "      <th>longitude</th>\n",
       "    </tr>\n",
       "  </thead>\n",
       "  <tbody>\n",
       "    <tr>\n",
       "      <th>0</th>\n",
       "      <td>Albert Park</td>\n",
       "      <td>Albert Park</td>\n",
       "      <td>3206</td>\n",
       "      <td>-37.8445</td>\n",
       "      <td>144.9530</td>\n",
       "    </tr>\n",
       "    <tr>\n",
       "      <th>1</th>\n",
       "      <td>Middle Park</td>\n",
       "      <td>Middle Park</td>\n",
       "      <td>3206</td>\n",
       "      <td>-37.8512</td>\n",
       "      <td>144.9621</td>\n",
       "    </tr>\n",
       "    <tr>\n",
       "      <th>2</th>\n",
       "      <td>West St Kilda</td>\n",
       "      <td>St Kilda West</td>\n",
       "      <td>3182</td>\n",
       "      <td>-37.8579</td>\n",
       "      <td>144.9715</td>\n",
       "    </tr>\n",
       "    <tr>\n",
       "      <th>3</th>\n",
       "      <td>Armadale</td>\n",
       "      <td>Armadale</td>\n",
       "      <td>3143</td>\n",
       "      <td>-37.8576</td>\n",
       "      <td>145.0202</td>\n",
       "    </tr>\n",
       "    <tr>\n",
       "      <th>4</th>\n",
       "      <td>Carlton North</td>\n",
       "      <td>Carlton North</td>\n",
       "      <td>3054</td>\n",
       "      <td>-37.7847</td>\n",
       "      <td>144.9632</td>\n",
       "    </tr>\n",
       "  </tbody>\n",
       "</table>\n",
       "</div>"
      ],
      "text/plain": [
       "            Name           name  postcode  latitude  longitude\n",
       "0    Albert Park    Albert Park      3206  -37.8445   144.9530\n",
       "1    Middle Park    Middle Park      3206  -37.8512   144.9621\n",
       "2  West St Kilda  St Kilda West      3182  -37.8579   144.9715\n",
       "3       Armadale       Armadale      3143  -37.8576   145.0202\n",
       "4  Carlton North  Carlton North      3054  -37.7847   144.9632"
      ]
     },
     "execution_count": 12,
     "metadata": {},
     "output_type": "execute_result"
    }
   ],
   "source": [
    "# Create a dictionary to reverse the name changes applied earlier\n",
    "reversed_name_changes = {v: k for k, v in name_changes.items()}\n",
    "\n",
    "# Reverse the modified values in the \"Name\" column of the df_merge DataFrame back to their original values\n",
    "df_merge['Name'] = df_merge['Name'].replace(reversed_name_changes)\n",
    "\n",
    "df_merge.head()"
   ]
  },
  {
   "cell_type": "code",
   "execution_count": 13,
   "metadata": {},
   "outputs": [],
   "source": [
    "df_merge.to_csv('../data/raw/suburb_postcode.csv', index=False)"
   ]
  }
 ],
 "metadata": {
  "kernelspec": {
   "display_name": "mast30034",
   "language": "python",
   "name": "python3"
  },
  "language_info": {
   "codemirror_mode": {
    "name": "ipython",
    "version": 3
   },
   "file_extension": ".py",
   "mimetype": "text/x-python",
   "name": "python",
   "nbconvert_exporter": "python",
   "pygments_lexer": "ipython3",
   "version": "3.8.17"
  },
  "orig_nbformat": 4
 },
 "nbformat": 4,
 "nbformat_minor": 2
}
