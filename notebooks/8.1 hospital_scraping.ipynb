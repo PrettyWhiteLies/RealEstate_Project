{
 "cells": [
  {
   "cell_type": "markdown",
   "metadata": {},
   "source": [
    "# Get hospital coordinates"
   ]
  },
  {
   "cell_type": "code",
   "execution_count": null,
   "metadata": {},
   "outputs": [],
   "source": [
    "import requests\n",
    "import csv"
   ]
  },
  {
   "cell_type": "markdown",
   "metadata": {},
   "source": [
    "## Search all hospitals in Victoria"
   ]
  },
  {
   "cell_type": "code",
   "execution_count": 1,
   "metadata": {},
   "outputs": [
    {
     "name": "stdout",
     "output_type": "stream",
     "text": [
      "Data saved to all_hospitals_in_victoria.csv\n"
     ]
    }
   ],
   "source": [
    "def fetch_all_hospitals_in_victoria():\n",
    "    \"\"\"\n",
    "    Fetch information about all hospitals in the state of Victoria, Australia using the Overpass API.\n",
    "\n",
    "    Returns:\n",
    "    - data (dict): A dictionary containing information about hospitals in Victoria.\n",
    "\n",
    "    This function sends a query to the Overpass API to retrieve data about all hospitals located in \n",
    "    the state of Victoria, Australia. It uses the \"amenity\" tag with the value \"hospital\" to identify \n",
    "    hospital entities.\n",
    "    \"\"\"\n",
    "\n",
    "    # Overpass API endpoint\n",
    "    url = \"http://overpass-api.de/api/interpreter\"\n",
    "    \n",
    "    # Overpass QL query for all hospitals in Victoria\n",
    "    query = \"\"\"\n",
    "    [out:json];\n",
    "    area[\"ISO3166-2\"=\"AU-VIC\"]->.searchArea;\n",
    "    (\n",
    "      node[\"amenity\"=\"hospital\"](area.searchArea);\n",
    "      way[\"amenity\"=\"hospital\"](area.searchArea);\n",
    "      relation[\"amenity\"=\"hospital\"](area.searchArea);\n",
    "    );\n",
    "    out center;\n",
    "    \"\"\"\n",
    "    \n",
    "    response = requests.get(url, params={'data': query})\n",
    "    data = response.json()\n",
    "\n",
    "    return data\n"
   ]
  },
  {
   "cell_type": "markdown",
   "metadata": {},
   "source": [
    "##  Fetch data"
   ]
  },
  {
   "cell_type": "code",
   "execution_count": null,
   "metadata": {},
   "outputs": [],
   "source": [
    "hospitals_data = fetch_all_hospitals_in_victoria()"
   ]
  },
  {
   "cell_type": "markdown",
   "metadata": {},
   "source": [
    "## store data"
   ]
  },
  {
   "cell_type": "code",
   "execution_count": null,
   "metadata": {},
   "outputs": [],
   "source": [
    "def save_to_csv(data, filename):\n",
    "\n",
    "    \"\"\"\n",
    "    Save data to a CSV file.\n",
    "\n",
    "    Parameters:\n",
    "    - data: A dictionary containing data to be saved.\n",
    "    - filename: The name of the CSV file to create and save data to.\n",
    "\n",
    "    This function takes a dictionary 'data' and saves it to a CSV file with the specified 'filename'. \n",
    "    The 'data' dictionary is expected to have a structure where 'elements' is a list of dictionaries, \n",
    "    and each dictionary may contain keys such as 'type', 'id', 'latitude', 'longitude', and 'name'.\n",
    "    \"\"\"\n",
    "    \n",
    "    with open(filename, 'w', newline='') as csvfile:\n",
    "        fieldnames = ['type', 'id', 'latitude', 'longitude', 'name']\n",
    "        writer = csv.DictWriter(csvfile, fieldnames=fieldnames)\n",
    "\n",
    "        writer.writeheader()\n",
    "        for element in data['elements']:\n",
    "            name = element['tags']['name'] if 'tags' in element and 'name' in element['tags'] else \"Unknown\"\n",
    "            if element['type'] == 'node':\n",
    "                writer.writerow({'type': 'node', 'id': element['id'], 'latitude': element['lat'], 'longitude': element['lon'], 'name': name})\n",
    "            elif 'center' in element:\n",
    "                writer.writerow({'type': element['type'], 'id': element['id'], 'latitude': element['center']['lat'], 'longitude': element['center']['lon'], 'name': name})"
   ]
  },
  {
   "cell_type": "code",
   "execution_count": null,
   "metadata": {},
   "outputs": [],
   "source": [
    "# Save data to CSV\n",
    "save_to_csv(hospitals_data, '../data/landing/all_hospitals_in_victoria.csv')"
   ]
  }
 ],
 "metadata": {
  "kernelspec": {
   "display_name": "Python 3 (ipykernel)",
   "language": "python",
   "name": "python3"
  },
  "language_info": {
   "codemirror_mode": {
    "name": "ipython",
    "version": 3
   },
   "file_extension": ".py",
   "mimetype": "text/x-python",
   "name": "python",
   "nbconvert_exporter": "python",
   "pygments_lexer": "ipython3",
   "version": "3.8.17"
  },
  "orig_nbformat": 4
 },
 "nbformat": 4,
 "nbformat_minor": 2
}
